{
 "cells": [
  {
   "attachments": {},
   "cell_type": "markdown",
   "metadata": {},
   "source": [
    "A Pseudo Hospital Management system"
   ]
  },
  {
   "cell_type": "code",
   "execution_count": 29,
   "metadata": {},
   "outputs": [],
   "source": [
    "# importing required libaries\n",
    "import csv\n",
    "import re"
   ]
  },
  {
   "attachments": {},
   "cell_type": "markdown",
   "metadata": {},
   "source": [
    "This is a pseudo Hospital management project built with the basics of object oriented programming and the search algo implemented will ne bineary search, the database will be a .csv file"
   ]
  },
  {
   "cell_type": "code",
   "execution_count": 118,
   "metadata": {},
   "outputs": [],
   "source": [
    "\n",
    "        \n",
    "        \n",
    "    \n",
    "\n",
    "\n",
    "class Staff():\n",
    "    All =[]\n",
    "    def __init__(self,your_name, age:int ,profession, certificate ,university ,last_practice,distance_from_hospital ):\n",
    "        \n",
    "        assert age<70, f\"you are above retirement age\"\n",
    "        self.your_name = your_name\n",
    "        self.age = age \n",
    "        self.profession = profession\n",
    "        self.certificate = certificate\n",
    "        self.last_practice = last_practice\n",
    "        self.distance_from_hospital = distance_from_hospital\n",
    "        \n",
    "        Staff.All.append([self])\n",
    "        \n",
    "   \n",
    "   \n",
    "    def UpdateDepartment(self):\n",
    "        # the hospital department class is dependent on t\n",
    "        # his method every time a new staff is registered the update employee staff by one\n",
    "        \n",
    "        Update = list(HospitalDepartments.List_of_departments.keys())\n",
    "        \n",
    "        for item in range(len(Update)):\n",
    "            \n",
    "            \n",
    "            if (self.profession[0:5] == Update[item][0:5]):\n",
    "                \n",
    "                HospitalDepartments.List_of_departments[Update[item]]+=1\n",
    "                return f\"{HospitalDepartments.List_of_departments} is updated\"\n",
    "           \n",
    "        \n",
    "    def __repr__(self) :\n",
    "        return f\"{self.__class__.__name__}({self.your_name},({self.age},({self.profession})))\"\n",
    "    \n",
    "    def EmergencyStaff(self):\n",
    "        if(self.distance_from_hospital<20 and (self.profession == \"Doctor\" or self.profession == \"Surgeon\") ):\n",
    "            self.status = \"Emergency\"\n",
    "        else:\n",
    "            self.status = \"Non-Emergency\"\n",
    "        \n",
    "    \n",
    "        \n",
    "        \n",
    "        \n",
    "    \n",
    "        \n",
    "        \n",
    "        \n",
    "        \n",
    "   \n",
    "    \n",
    "\n",
    "\n",
    "\n",
    "\n",
    "class Hospital(Staff):\n",
    "    def __init__(self,Hospital_name:str, location:str, no_of_staff = 0, departments=[],certification =[]):\n",
    "        \n",
    "        # assert len(certification>0), f\"you are not certified to have a hospital\"\n",
    "        self.Hospital_name = Hospital_name\n",
    "        self.location = location\n",
    "        self.no_of_staff = no_of_staff\n",
    "        self.certification = certification\n",
    "        \n",
    "   \n",
    "        \n",
    "        \n",
    "        \n",
    "    def UpdateStaff(self):\n",
    "        self.no_of_staff += len(Staff.All)\n",
    "        \n",
    "    \n",
    "    def __repr__(self) :\n",
    "        return f\"{self.__class__.__name__}({self.Hospital_name}),({self.no_of_staff})\"\n",
    "    \n",
    "class HospitalDepartments:\n",
    "    List_of_departments = {\"Neurology\":0 , \"Cardiology\":0,\"Urology\":0}\n",
    "    \n",
    "    \n",
    "    def __init__(self,no_of_department = len(List_of_departments.keys())):\n",
    "        self.no_of_department = no_of_department\n",
    "        \n",
    "        \n",
    "        \n",
    "        \n",
    "        \n",
    "        \n",
    "        \n",
    "    @classmethod\n",
    "    def Departments(cls):\n",
    "        \n",
    "        return HospitalDepartments.List_of_departments\n",
    "            \n",
    "    \n",
    "    \n",
    "    \n",
    "    \n",
    "\n",
    "\n",
    "\n",
    "   \n",
    "    \n",
    "    \n",
    "    "
   ]
  },
  {
   "cell_type": "code",
   "execution_count": 114,
   "metadata": {},
   "outputs": [
    {
     "name": "stdout",
     "output_type": "stream",
     "text": [
      "[[Staff(Dappa,(22,(Doctor)))]]\n"
     ]
    }
   ],
   "source": [
    "print(Staff.All)"
   ]
  },
  {
   "cell_type": "code",
   "execution_count": 100,
   "metadata": {},
   "outputs": [],
   "source": [
    "Hospital1 = Hospital(\"cbenneth\" , \"shell location\")"
   ]
  },
  {
   "cell_type": "code",
   "execution_count": 119,
   "metadata": {},
   "outputs": [],
   "source": []
  },
  {
   "cell_type": "code",
   "execution_count": 120,
   "metadata": {},
   "outputs": [],
   "source": [
    "Staff1.EmergencyStaff()"
   ]
  },
  {
   "cell_type": "code",
   "execution_count": 121,
   "metadata": {},
   "outputs": [
    {
     "data": {
      "text/plain": [
       "'Non-Emergency'"
      ]
     },
     "execution_count": 121,
     "metadata": {},
     "output_type": "execute_result"
    }
   ],
   "source": [
    "Staff1.status"
   ]
  },
  {
   "cell_type": "code",
   "execution_count": 106,
   "metadata": {},
   "outputs": [
    {
     "name": "stdout",
     "output_type": "stream",
     "text": [
      "10000\n"
     ]
    }
   ],
   "source": [
    "print(Hospital1.Salary)"
   ]
  },
  {
   "cell_type": "code",
   "execution_count": 105,
   "metadata": {},
   "outputs": [
    {
     "ename": "TypeError",
     "evalue": "'int' object is not callable",
     "output_type": "error",
     "traceback": [
      "\u001b[1;31m---------------------------------------------------------------------------\u001b[0m",
      "\u001b[1;31mTypeError\u001b[0m                                 Traceback (most recent call last)",
      "Cell \u001b[1;32mIn [105], line 1\u001b[0m\n\u001b[1;32m----> 1\u001b[0m Hospital1\u001b[39m.\u001b[39;49mSalary(\u001b[39m10000\u001b[39;49m)\n",
      "\u001b[1;31mTypeError\u001b[0m: 'int' object is not callable"
     ]
    }
   ],
   "source": [
    "Hospital1.Salary(10000)"
   ]
  },
  {
   "cell_type": "code",
   "execution_count": 84,
   "metadata": {},
   "outputs": [],
   "source": [
    "Hospital1.UpdateStaff()"
   ]
  },
  {
   "cell_type": "code",
   "execution_count": 85,
   "metadata": {},
   "outputs": [
    {
     "data": {
      "text/plain": [
       "1"
      ]
     },
     "execution_count": 85,
     "metadata": {},
     "output_type": "execute_result"
    }
   ],
   "source": [
    "Hospital1.no_of_staff"
   ]
  },
  {
   "cell_type": "code",
   "execution_count": null,
   "metadata": {},
   "outputs": [],
   "source": []
  }
 ],
 "metadata": {
  "kernelspec": {
   "display_name": "Python 3",
   "language": "python",
   "name": "python3"
  },
  "language_info": {
   "codemirror_mode": {
    "name": "ipython",
    "version": 3
   },
   "file_extension": ".py",
   "mimetype": "text/x-python",
   "name": "python",
   "nbconvert_exporter": "python",
   "pygments_lexer": "ipython3",
   "version": "3.11.1"
  },
  "orig_nbformat": 4,
  "vscode": {
   "interpreter": {
    "hash": "c261aea317cc0286b3b3261fbba9abdec21eaa57589985bb7a274bf54d6cc0a7"
   }
  }
 },
 "nbformat": 4,
 "nbformat_minor": 2
}
